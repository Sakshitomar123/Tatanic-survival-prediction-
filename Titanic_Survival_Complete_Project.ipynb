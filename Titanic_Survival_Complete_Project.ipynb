{
 "cells": [
  {
   "cell_type": "markdown",
   "metadata": {},
   "source": [
    "# Titanic Survival Prediction Project"
   ]
  },
  {
   "cell_type": "code",
   "execution_count": null,
   "metadata": {},
   "outputs": [],
   "source": [
    "import pandas as pd\n",
    "from sklearn.model_selection import train_test_split\n",
    "from sklearn.linear_model import LogisticRegression\n",
    "from sklearn.metrics import accuracy_score"
   ]
  },
  {
   "cell_type": "code",
   "execution_count": null,
   "metadata": {},
   "outputs": [],
   "source": [
    "df = pd.read_csv('titanic.csv')\n",
    "df_clean = df.drop(['Name','Ticket','Cabin'], axis=1)\n",
    "df_clean['Age'].fillna(df_clean['Age'].mean(), inplace=True)\n",
    "df_clean['Embarked'].fillna(df_clean['Embarked'].mode()[0], inplace=True)\n",
    "df_clean['Sex'] = df_clean['Sex'].map({'male':0,'female':1})\n",
    "df_clean['Embarked'] = df_clean['Embarked'].map({'S':0,'C':1,'Q':2})\n",
    "X = df_clean.drop('Survived', axis=1)\n",
    "y = df_clean['Survived']\n",
    "X_train, X_test, y_train, y_test = train_test_split(X, y, test_size=0.2, random_state=42)\n",
    "model = LogisticRegression()\n",
    "model.fit(X_train, y_train)\n",
    "y_pred = model.predict(X_test)\n",
    "print('Accuracy:', accuracy_score(y_test, y_pred))\n",
    "new_passenger = [[3,0,25,0,0,7.25,0]]\n",
    "pred = model.predict(new_passenger)[0]\n",
    "print('Prediction:', 'Survived' if pred==1 else 'Not Survived')"
   ]
  }
 ],
 "metadata": {
  "kernelspec": {
   "display_name": "Python 3",
   "language": "python",
   "name": "python3"
  },
  "language_info": {
   "name": "python",
   "version": "3.x"
  }
 },
 "nbformat": 4,
 "nbformat_minor": 4
}